{
  "nbformat": 4,
  "nbformat_minor": 0,
  "metadata": {
    "colab": {
      "provenance": []
    },
    "kernelspec": {
      "name": "python3",
      "display_name": "Python 3"
    },
    "language_info": {
      "name": "python"
    }
  },
  "cells": [
    {
      "cell_type": "markdown",
      "source": [
        "10 - Un instituto de meteorología desea realizar un estudio de la temperatura media de cada mes del año. Para ello, debes crear un código que recoja y almacene esas temperaturas medias en una lista. Luego, calcula el promedio anual de las temperaturas y muestra todas las temperaturas por encima del promedio anual y en qué mes ocurrieron, mostrando los meses por su nombre (Enero, Febrero, etc.)."
      ],
      "metadata": {
        "id": "v-LeYblYpAlT"
      }
    },
    {
      "cell_type": "code",
      "source": [
        "# Lista de nombres de los meses:\n",
        "meses = [\"Enero\", \"Febrero\", \"Marzo\", \"Abril\", \"Mayo\", \"Junio\", \"Julio\", \"Agosto\", \"Septiembre\", \"Octubre\", \"Noviembre\", \"Diciembre\"]\n",
        "\n",
        "# Almacenar temperaturas medias de cada mes\n",
        "temperaturas_medias = []\n",
        "for mes in meses:\n",
        "    temperatura = float(input(f\"Ingrese la temperatura media de {mes}:\"))\n",
        "    temperaturas_medias.append(temperatura)\n",
        "\n",
        "# Calcular promedio anual\n",
        "promedio_anual = sum(temperaturas_medias) / len(temperaturas_medias)\n",
        "\n",
        "print(f\"El promedio anual de las temperaturas es: {promedio_anual:.2f}\")"
      ],
      "metadata": {
        "colab": {
          "base_uri": "https://localhost:8080/"
        },
        "id": "Lxhn8cNdpGHZ",
        "outputId": "b083e7b0-0482-467e-dfd4-4664eaf048bc"
      },
      "execution_count": 3,
      "outputs": [
        {
          "output_type": "stream",
          "name": "stdout",
          "text": [
            "Ingrese la temperatura media de Enero:45\n",
            "Ingrese la temperatura media de Febrero:40\n",
            "Ingrese la temperatura media de Marzo:32\n",
            "Ingrese la temperatura media de Abril:27\n",
            "Ingrese la temperatura media de Mayo:22\n",
            "Ingrese la temperatura media de Junio:19\n",
            "Ingrese la temperatura media de Julio:15\n",
            "Ingrese la temperatura media de Agosto:20\n",
            "Ingrese la temperatura media de Septiembre:23\n",
            "Ingrese la temperatura media de Octubre:25\n",
            "Ingrese la temperatura media de Noviembre:28\n",
            "Ingrese la temperatura media de Diciembre:30\n",
            "El promedio anual de las temperaturas es: 27.17\n"
          ]
        }
      ]
    }
  ]
}